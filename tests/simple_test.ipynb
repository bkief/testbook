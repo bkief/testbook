{
 "cells": [
  {
   "cell_type": "markdown",
   "metadata": {
    "hide_input": true,
    "inputHidden": true,
    "papermill": {
     "duration": 0.034914,
     "end_time": "2019-11-07T04:06:30.612335",
     "exception": false,
     "start_time": "2019-11-07T04:06:30.577421",
     "status": "completed"
    },
    "tags": []
   },
   "source": [
    "# Simple Testbook Example\n",
    "## Testbook allows you to highly document your tests using Jupyter Notebooks"
   ]
  },
  {
   "cell_type": "code",
   "execution_count": 2,
   "metadata": {
    "papermill": {
     "duration": 2.248331,
     "end_time": "2019-11-07T04:06:32.868681",
     "exception": false,
     "start_time": "2019-11-07T04:06:30.620350",
     "status": "completed"
    },
    "tags": []
   },
   "outputs": [],
   "source": [
    "import testbook\n",
    "import unittest"
   ]
  },
  {
   "cell_type": "markdown",
   "metadata": {},
   "source": [
    "### You can annotate your classes"
   ]
  },
  {
   "cell_type": "code",
   "execution_count": 3,
   "metadata": {
    "papermill": {
     "duration": 0.016001,
     "end_time": "2019-11-07T04:06:32.890679",
     "exception": false,
     "start_time": "2019-11-07T04:06:32.874678",
     "status": "completed"
    },
    "tags": []
   },
   "outputs": [],
   "source": [
    "class TestA(unittest.TestCase):\n",
    "    pass\n",
    "\n",
    "    def testA1(self):\n",
    "        self.assertEqual(1, 2)"
   ]
  },
  {
   "cell_type": "code",
   "execution_count": 4,
   "metadata": {
    "papermill": {
     "duration": 0.022004,
     "end_time": "2019-11-07T04:06:32.917682",
     "exception": false,
     "start_time": "2019-11-07T04:06:32.895678",
     "status": "completed"
    },
    "tags": []
   },
   "outputs": [],
   "source": [
    "class TestB(unittest.TestCase):\n",
    "    pass\n",
    "\n",
    "    def testB1(self):\n",
    "        self.assertEqual(2, 2)\n",
    "\n",
    "    @unittest.skip(\"demonstrating skipping\")\n",
    "    def testB2(self):\n",
    "        self.assertEqual(2, 5)"
   ]
  },
  {
   "cell_type": "markdown",
   "metadata": {},
   "source": [
    "### And your can even annotate your individual tests by breaking apart the class. The special ` @testbook.attach_test()` annotation allows you to append a given function to the test class after documenting."
   ]
  },
  {
   "cell_type": "code",
   "execution_count": 5,
   "metadata": {
    "papermill": {
     "duration": 0.020014,
     "end_time": "2019-11-07T04:06:32.947694",
     "exception": false,
     "start_time": "2019-11-07T04:06:32.927680",
     "status": "completed"
    },
    "tags": []
   },
   "outputs": [],
   "source": [
    "@testbook.attach_test(TestA)\n",
    "def testA2(self):\n",
    "    self.assertTrue(False)"
   ]
  },
  {
   "cell_type": "code",
   "execution_count": 6,
   "metadata": {
    "papermill": {
     "duration": 0.048999,
     "end_time": "2019-11-07T04:06:33.006682",
     "exception": false,
     "start_time": "2019-11-07T04:06:32.957683",
     "status": "completed"
    },
    "tags": []
   },
   "outputs": [
    {
     "name": "stderr",
     "output_type": "stream",
     "text": [
      "FF.s\n",
      "======================================================================\n",
      "FAIL: test1 (__main__.TestA)\n",
      "----------------------------------------------------------------------\n",
      "Traceback (most recent call last):\n",
      "  File \"<ipython-input-3-1f8053384d6d>\", line 5, in test1\n",
      "    self.assertEqual(1, 2)\n",
      "AssertionError: 1 != 2\n",
      "\n",
      "======================================================================\n",
      "FAIL: test2 (__main__.TestA)\n",
      "----------------------------------------------------------------------\n",
      "Traceback (most recent call last):\n",
      "  File \"<ipython-input-5-2a89a235edc8>\", line 3, in test2\n",
      "    self.assertTrue(False)\n",
      "AssertionError: False is not true\n",
      "\n",
      "----------------------------------------------------------------------\n",
      "Ran 4 tests in 0.008s\n",
      "\n",
      "FAILED (failures=2, skipped=1)\n"
     ]
    },
    {
     "data": {
      "application/scrapbook.scrap.json+json": {
       "data": {
        "TestA": {
         "test1": {
          "description": "test1 (__main__.TestA)",
          "duration": 0.004006147384643555,
          "duration_fmt": "4 ms",
          "exception": "Traceback (most recent call last):\n  File \"<ipython-input-3-1f8053384d6d>\", line 5, in test1\n    self.assertEqual(1, 2)\nAssertionError: 1 != 2\n",
          "outcome": "FAILURE",
          "test_id": "1.1"
         },
         "test2": {
          "description": "test2 (__main__.TestA)",
          "duration": 0.0020012855529785156,
          "duration_fmt": "2 ms",
          "exception": "Traceback (most recent call last):\n  File \"<ipython-input-5-2a89a235edc8>\", line 3, in test2\n    self.assertTrue(False)\nAssertionError: False is not true\n",
          "outcome": "FAILURE",
          "test_id": "1.1"
         }
        },
        "TestB": {
         "test1": {
          "description": "test1 (__main__.TestB)",
          "duration": 0.0009980201721191406,
          "duration_fmt": "0 ms",
          "exception": "",
          "outcome": "SUCCESS",
          "test_id": "1.1"
         },
         "test2": {
          "description": "test2 (__main__.TestB)",
          "duration": 0.0009965896606445312,
          "duration_fmt": "0 ms",
          "exception": "",
          "outcome": "SKIPPED",
          "test_id": "1.1"
         }
        }
       },
       "encoder": "json",
       "name": "testbook_result",
       "version": 1
      }
     },
     "metadata": {
      "scrapbook": {
       "data": true,
       "display": false,
       "name": "testbook_result"
      }
     },
     "output_type": "display_data"
    },
    {
     "data": {
      "text/plain": [
       "<unittest.main.TestProgram at 0x12ee9cb60f0>"
      ]
     },
     "execution_count": 6,
     "metadata": {},
     "output_type": "execute_result"
    }
   ],
   "source": [
    "testbook.main()"
   ]
  }
 ],
 "metadata": {
  "kernelspec": {
   "display_name": "Python 3",
   "language": "python",
   "name": "python3"
  },
  "language_info": {
   "codemirror_mode": {
    "name": "ipython",
    "version": 3
   },
   "file_extension": ".py",
   "mimetype": "text/x-python",
   "name": "python",
   "nbconvert_exporter": "python",
   "pygments_lexer": "ipython3",
   "version": "3.6.2"
  },
  "papermill": {
   "duration": 6.623213,
   "end_time": "2019-11-07T04:06:34.146684",
   "environment_variables": {},
   "exception": null,
   "input_path": "tests/simple_test.ipynb",
   "output_path": "tests/simple_test.ipynb",
   "parameters": {},
   "start_time": "2019-11-07T04:06:27.523471",
   "version": "1.2.1"
  }
 },
 "nbformat": 4,
 "nbformat_minor": 2
}
