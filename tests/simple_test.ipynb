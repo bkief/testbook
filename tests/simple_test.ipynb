{
 "cells": [
  {
   "cell_type": "markdown",
   "metadata": {
    "hide_input": true,
    "inputHidden": true,
    "papermill": {
     "duration": 0.010998,
     "end_time": "2019-11-22T18:39:16.197756",
     "exception": false,
     "start_time": "2019-11-22T18:39:16.186758",
     "status": "completed"
    },
    "tags": []
   },
   "source": [
    "# Simple Testbook Example\n",
    "## Testbook allows you to highly document your tests using Jupyter Notebooks"
   ]
  },
  {
   "cell_type": "code",
   "execution_count": 1,
   "metadata": {
    "papermill": {
     "duration": 2.330843,
     "end_time": "2019-11-22T18:39:18.547603",
     "exception": false,
     "start_time": "2019-11-22T18:39:16.216760",
     "status": "completed"
    },
    "tags": []
   },
   "outputs": [],
   "source": [
    "import testbook\n",
    "import unittest"
   ]
  },
  {
   "cell_type": "markdown",
   "metadata": {
    "papermill": {
     "duration": 0.008002,
     "end_time": "2019-11-22T18:39:18.562117",
     "exception": false,
     "start_time": "2019-11-22T18:39:18.554115",
     "status": "completed"
    },
    "tags": []
   },
   "source": [
    "### You can annotate your classes"
   ]
  },
  {
   "cell_type": "code",
   "execution_count": 2,
   "metadata": {
    "papermill": {
     "duration": 0.019003,
     "end_time": "2019-11-22T18:39:18.588118",
     "exception": false,
     "start_time": "2019-11-22T18:39:18.569115",
     "status": "completed"
    },
    "tags": []
   },
   "outputs": [],
   "source": [
    "class TestA(unittest.TestCase):\n",
    "    pass\n",
    "\n",
    "    def testA1(self):\n",
    "        self.assertEqual(1, 2)"
   ]
  },
  {
   "cell_type": "code",
   "execution_count": 3,
   "metadata": {
    "papermill": {
     "duration": 0.024998,
     "end_time": "2019-11-22T18:39:18.620114",
     "exception": false,
     "start_time": "2019-11-22T18:39:18.595116",
     "status": "completed"
    },
    "tags": []
   },
   "outputs": [],
   "source": [
    "class TestB(unittest.TestCase):\n",
    "    pass\n",
    "\n",
    "    def testB1(self):\n",
    "        self.assertEqual(2, 2)\n",
    "\n",
    "    @unittest.skip(\"demonstrating skipping\")\n",
    "    def testB2(self):\n",
    "        self.assertEqual(2, 5)"
   ]
  },
  {
   "cell_type": "markdown",
   "metadata": {
    "papermill": {
     "duration": 0.009008,
     "end_time": "2019-11-22T18:39:18.637126",
     "exception": false,
     "start_time": "2019-11-22T18:39:18.628118",
     "status": "completed"
    },
    "tags": []
   },
   "source": [
    "### And your can even annotate your individual tests by breaking apart the class. The special ` @testbook.attach_test()` annotation allows you to append a given function to the test class after documenting."
   ]
  },
  {
   "cell_type": "code",
   "execution_count": 4,
   "metadata": {
    "papermill": {
     "duration": 0.017511,
     "end_time": "2019-11-22T18:39:18.663135",
     "exception": false,
     "start_time": "2019-11-22T18:39:18.645624",
     "status": "completed"
    },
    "tags": []
   },
   "outputs": [],
   "source": [
    "@testbook.attach_test(TestA)\n",
    "def testA2(self):\n",
    "    self.assertTrue(False)"
   ]
  },
  {
   "cell_type": "code",
   "execution_count": 5,
   "metadata": {
    "papermill": {
     "duration": 0.078012,
     "end_time": "2019-11-22T18:39:18.752156",
     "exception": false,
     "start_time": "2019-11-22T18:39:18.674144",
     "status": "completed"
    },
    "tags": []
   },
   "outputs": [
    {
     "name": "stderr",
     "output_type": "stream",
     "text": [
      "F"
     ]
    },
    {
     "name": "stderr",
     "output_type": "stream",
     "text": [
      "F"
     ]
    },
    {
     "name": "stderr",
     "output_type": "stream",
     "text": [
      "."
     ]
    },
    {
     "name": "stderr",
     "output_type": "stream",
     "text": [
      "s"
     ]
    },
    {
     "name": "stderr",
     "output_type": "stream",
     "text": [
      "\n",
      "======================================================================\n",
      "FAIL: testA1 (__main__.TestA)\n",
      "----------------------------------------------------------------------\n",
      "Traceback (most recent call last):\n",
      "  File \"<ipython-input-2-12d08c80e02e>\", line 5, in testA1\n",
      "    self.assertEqual(1, 2)\n",
      "AssertionError: 1 != 2\n",
      "\n",
      "======================================================================\n",
      "FAIL: testA2 (__main__.TestA)\n",
      "----------------------------------------------------------------------\n",
      "Traceback (most recent call last):\n",
      "  File \"<ipython-input-4-e7798e44a66a>\", line 3, in testA2\n",
      "    self.assertTrue(False)\n",
      "AssertionError: False is not true\n",
      "\n",
      "----------------------------------------------------------------------\n",
      "Ran 4 tests in 0.019s\n",
      "\n",
      "FAILED (failures=2, skipped=1)\n"
     ]
    },
    {
     "data": {
      "application/scrapbook.scrap.json+json": {
       "data": {
        "TestA": {
         "testA1": {
          "description": "testA1 (__main__.TestA)",
          "duration": 0.015000581741333008,
          "duration_fmt": "15 ms",
          "exception": "Traceback (most recent call last):\n  File \"<ipython-input-2-12d08c80e02e>\", line 5, in testA1\n    self.assertEqual(1, 2)\nAssertionError: 1 != 2\n",
          "outcome": "FAILURE",
          "test_id": "1.1"
         },
         "testA2": {
          "description": "testA2 (__main__.TestA)",
          "duration": 0.002002716064453125,
          "duration_fmt": "2 ms",
          "exception": "Traceback (most recent call last):\n  File \"<ipython-input-4-e7798e44a66a>\", line 3, in testA2\n    self.assertTrue(False)\nAssertionError: False is not true\n",
          "outcome": "FAILURE",
          "test_id": "1.1"
         }
        },
        "TestB": {
         "testB1": {
          "description": "testB1 (__main__.TestB)",
          "duration": 0.0010001659393310547,
          "duration_fmt": "1 ms",
          "exception": "",
          "outcome": "SUCCESS",
          "test_id": "1.1"
         },
         "testB2": {
          "description": "testB2 (__main__.TestB)",
          "duration": 0.0020003318786621094,
          "duration_fmt": "2 ms",
          "exception": "",
          "outcome": "SKIPPED",
          "test_id": "1.1"
         }
        }
       },
       "encoder": "json",
       "name": "testbook_result",
       "version": 1
      }
     },
     "metadata": {
      "scrapbook": {
       "data": true,
       "display": false,
       "name": "testbook_result"
      }
     },
     "output_type": "display_data"
    },
    {
     "data": {
      "text/plain": [
       "<unittest.main.TestProgram at 0x26422357388>"
      ]
     },
     "execution_count": 5,
     "metadata": {},
     "output_type": "execute_result"
    }
   ],
   "source": [
    "testbook.main()"
   ]
  }
 ],
 "metadata": {
  "kernelspec": {
   "display_name": "Python 3",
   "language": "python",
   "name": "python3"
  },
  "language_info": {
   "codemirror_mode": {
    "name": "ipython",
    "version": 3
   },
   "file_extension": ".py",
   "mimetype": "text/x-python",
   "name": "python",
   "nbconvert_exporter": "python",
   "pygments_lexer": "ipython3",
   "version": "3.7.4"
  },
  "papermill": {
   "duration": 5.941013,
   "end_time": "2019-11-22T18:39:19.291376",
   "environment_variables": {},
   "exception": null,
   "input_path": "C:\\git\\testbook\\tests\\simple_test.ipynb",
   "output_path": "C:\\git\\testbook\\tests\\simple_test.ipynb",
   "parameters": {},
   "start_time": "2019-11-22T18:39:13.350363",
   "version": "1.2.1"
  }
 },
 "nbformat": 4,
 "nbformat_minor": 2
}