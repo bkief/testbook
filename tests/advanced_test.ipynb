{
 "cells": [
  {
   "cell_type": "markdown",
   "metadata": {
    "papermill": {
     "duration": 0.013014,
     "end_time": "2019-11-22T18:39:09.467156",
     "exception": false,
     "start_time": "2019-11-22T18:39:09.454142",
     "status": "completed"
    },
    "tags": []
   },
   "source": [
    "# Advanced Testbook Example"
   ]
  },
  {
   "cell_type": "code",
   "execution_count": 3,
   "metadata": {
    "papermill": {
     "duration": 2.934848,
     "end_time": "2019-11-22T18:39:12.415004",
     "exception": false,
     "start_time": "2019-11-22T18:39:09.480156",
     "status": "completed"
    },
    "tags": []
   },
   "outputs": [],
   "source": [
    "import json\n",
    "import unittest\n",
    "\n",
    "import testbook"
   ]
  },
  {
   "cell_type": "code",
   "execution_count": 4,
   "metadata": {
    "papermill": {
     "duration": 0.029012,
     "end_time": "2019-11-22T18:39:12.459016",
     "exception": false,
     "start_time": "2019-11-22T18:39:12.430004",
     "status": "completed"
    },
    "tags": []
   },
   "outputs": [],
   "source": [
    "with open(\".\\\\tests\\\\advanced_test.json\", \"r\") as f:\n",
    "    test_data = json.load(f)"
   ]
  },
  {
   "cell_type": "code",
   "execution_count": 5,
   "metadata": {
    "papermill": {
     "duration": 0.025,
     "end_time": "2019-11-22T18:39:12.499027",
     "exception": false,
     "start_time": "2019-11-22T18:39:12.474027",
     "status": "completed"
    },
    "tags": []
   },
   "outputs": [],
   "source": [
    "class TestFruitData(unittest.TestCase):\n",
    "    pass"
   ]
  },
  {
   "cell_type": "markdown",
   "metadata": {
    "papermill": {
     "duration": 0.010999,
     "end_time": "2019-11-22T18:39:12.524026",
     "exception": false,
     "start_time": "2019-11-22T18:39:12.513027",
     "status": "completed"
    },
    "tags": []
   },
   "source": [
    "## The data set cannot contain comparrisons of apples and oranges"
   ]
  },
  {
   "cell_type": "code",
   "execution_count": 6,
   "metadata": {
    "papermill": {
     "duration": 0.032023,
     "end_time": "2019-11-22T18:39:12.569051",
     "exception": false,
     "start_time": "2019-11-22T18:39:12.537028",
     "status": "completed"
    },
    "tags": []
   },
   "outputs": [],
   "source": [
    "@testbook.attach_test(TestFruitData)\n",
    "def test_compare_apples_and_oranges(self):\n",
    "    fruit_classification = [[], []]\n",
    "    for fruits in test_data['compare']:\n",
    "        for i, fruit in enumerate(fruits):\n",
    "            if fruits[i] in test_data['oranges']: \n",
    "                fruit_classification[i].append('Orange')\n",
    "            elif fruits[i] in test_data['apples']:\n",
    "                fruit_classification[i].append('Apple')\n",
    "            else:\n",
    "                fruit_classification[i].append('Unknown')\n",
    "        \n",
    "    self.assertListEqual(fruit_classification[0], fruit_classification[1])"
   ]
  },
  {
   "cell_type": "markdown",
   "metadata": {
    "papermill": {
     "duration": 0.012998,
     "end_time": "2019-11-22T18:39:12.597049",
     "exception": false,
     "start_time": "2019-11-22T18:39:12.584051",
     "status": "completed"
    },
    "tags": []
   },
   "source": [
    "## The apple orchard and orange orchard must have the exact same number of trees"
   ]
  },
  {
   "cell_type": "code",
   "execution_count": 7,
   "metadata": {
    "papermill": {
     "duration": 0.025,
     "end_time": "2019-11-22T18:39:12.635049",
     "exception": false,
     "start_time": "2019-11-22T18:39:12.610049",
     "status": "completed"
    },
    "tags": []
   },
   "outputs": [],
   "source": [
    "@testbook.attach_test(TestFruitData)\n",
    "def test_tree_count(self):\n",
    "    num_apple_trees = test_data['orchard']['apple trees']\n",
    "    num_orange_trees = test_data['orchard']['orange trees']\n",
    "    self.assertEqual(num_apple_trees, num_orange_trees)"
   ]
  },
  {
   "cell_type": "code",
   "execution_count": 8,
   "metadata": {
    "papermill": {
     "duration": 0.02751,
     "end_time": "2019-11-22T18:39:12.678075",
     "exception": false,
     "start_time": "2019-11-22T18:39:12.650565",
     "status": "completed"
    },
    "tags": []
   },
   "outputs": [],
   "source": [
    "@testbook.attach_test(TestFruitData)\n",
    "def test_apple(self):\n",
    "    self.assertTrue(\"golden delicious\" in test_data['apples'])"
   ]
  },
  {
   "cell_type": "code",
   "execution_count": 9,
   "metadata": {
    "papermill": {
     "duration": 0.073021,
     "end_time": "2019-11-22T18:39:12.764099",
     "exception": false,
     "start_time": "2019-11-22T18:39:12.691078",
     "status": "completed"
    },
    "tags": []
   },
   "outputs": [
    {
     "name": "stderr",
     "output_type": "stream",
     "text": [
      ".FF\n",
      "======================================================================\n",
      "FAIL: test_compare_apples_and_oranges (__main__.TestFruitData)\n",
      "----------------------------------------------------------------------\n",
      "Traceback (most recent call last):\n",
      "  File \"<ipython-input-6-9e436ac44c7e>\", line 13, in test_compare_apples_and_oranges\n",
      "    self.assertListEqual(fruit_classification[0], fruit_classification[1])\n",
      "AssertionError: Lists differ: ['Apple', 'Apple', 'Orange', 'Orange', 'Apple'] != ['Apple', 'Orange', 'Orange', 'Orange', 'Apple']\n",
      "\n",
      "First differing element 1:\n",
      "'Apple'\n",
      "'Orange'\n",
      "\n",
      "- ['Apple', 'Apple', 'Orange', 'Orange', 'Apple']\n",
      "?           ---------\n",
      "\n",
      "+ ['Apple', 'Orange', 'Orange', 'Orange', 'Apple']\n",
      "?                               ++++++++++\n",
      "\n",
      "\n",
      "======================================================================\n",
      "FAIL: test_tree_count (__main__.TestFruitData)\n",
      "----------------------------------------------------------------------\n",
      "Traceback (most recent call last):\n",
      "  File \"<ipython-input-7-f51aa048ff16>\", line 5, in test_tree_count\n",
      "    self.assertEqual(num_apple_trees, num_orange_trees)\n",
      "AssertionError: 201 != 200\n",
      "\n",
      "----------------------------------------------------------------------\n",
      "Ran 3 tests in 0.019s\n",
      "\n",
      "FAILED (failures=2)\n"
     ]
    },
    {
     "data": {
      "application/scrapbook.scrap.json+json": {
       "data": {
        "TestFruitData": {
         "test_apple": {
          "description": "test_apple (__main__.TestFruitData)",
          "duration": 0.013997793197631836,
          "duration_fmt": "13 ms",
          "exception": "",
          "outcome": "SUCCESS",
          "test_id": "1.1"
         },
         "test_compare_apples_and_oranges": {
          "description": "test_compare_apples_and_oranges (__main__.TestFruitData)",
          "duration": 0.0030002593994140625,
          "duration_fmt": "3 ms",
          "exception": "Traceback (most recent call last):\n  File \"<ipython-input-6-9e436ac44c7e>\", line 13, in test_compare_apples_and_oranges\n    self.assertListEqual(fruit_classification[0], fruit_classification[1])\nAssertionError: Lists differ: ['Apple', 'Apple', 'Orange', 'Orange', 'Apple'] != ['Apple', 'Orange', 'Orange', 'Orange', 'Apple']\n\nFirst differing element 1:\n'Apple'\n'Orange'\n\n- ['Apple', 'Apple', 'Orange', 'Orange', 'Apple']\n?           ---------\n\n+ ['Apple', 'Orange', 'Orange', 'Orange', 'Apple']\n?                               ++++++++++\n\n",
          "outcome": "FAILURE",
          "test_id": "1.1"
         },
         "test_tree_count": {
          "description": "test_tree_count (__main__.TestFruitData)",
          "duration": 0.0019998550415039062,
          "duration_fmt": "1 ms",
          "exception": "Traceback (most recent call last):\n  File \"<ipython-input-7-f51aa048ff16>\", line 5, in test_tree_count\n    self.assertEqual(num_apple_trees, num_orange_trees)\nAssertionError: 201 != 200\n",
          "outcome": "FAILURE",
          "test_id": "1.1"
         }
        }
       },
       "encoder": "json",
       "name": "testbook_result",
       "version": 1
      }
     },
     "metadata": {
      "scrapbook": {
       "data": true,
       "display": false,
       "name": "testbook_result"
      }
     },
     "output_type": "display_data"
    },
    {
     "data": {
      "application/scrapbook.scrap.text+json": {
       "data": "Comparing Apples and Oranges",
       "encoder": "text",
       "name": "testbook_title",
       "version": 1
      }
     },
     "metadata": {
      "scrapbook": {
       "data": true,
       "display": false,
       "name": "testbook_title"
      }
     },
     "output_type": "display_data"
    },
    {
     "data": {
      "text/plain": [
       "<unittest.main.TestProgram at 0x1b669704408>"
      ]
     },
     "execution_count": 9,
     "metadata": {},
     "output_type": "execute_result"
    }
   ],
   "source": [
    "testbook.main(\"Comparing Apples and Oranges\")"
   ]
  }
 ],
 "metadata": {
  "kernelspec": {
   "display_name": "Python 3",
   "language": "python",
   "name": "python3"
  },
  "language_info": {
   "codemirror_mode": {
    "name": "ipython",
    "version": 3
   },
   "file_extension": ".py",
   "mimetype": "text/x-python",
   "name": "python",
   "nbconvert_exporter": "python",
   "pygments_lexer": "ipython3",
   "version": "3.6.4"
  },
  "papermill": {
   "duration": 7.126699,
   "end_time": "2019-11-22T18:39:13.289850",
   "environment_variables": {},
   "exception": null,
   "input_path": "C:\\git\\testbook\\tests\\advanced_test.ipynb",
   "output_path": "C:\\git\\testbook\\tests\\advanced_test.ipynb",
   "parameters": {},
   "start_time": "2019-11-22T18:39:06.163151",
   "version": "1.2.1"
  }
 },
 "nbformat": 4,
 "nbformat_minor": 2
}
